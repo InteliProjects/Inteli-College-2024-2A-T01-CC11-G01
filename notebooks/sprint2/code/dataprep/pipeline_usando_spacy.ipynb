{
 "cells": [
  {
   "cell_type": "markdown",
   "metadata": {
    "id": "0hCQ80szXKxa"
   },
   "source": [
    "# Sumário"
   ]
  },
  {
   "cell_type": "markdown",
   "metadata": {
    "id": "1nzt92hWXPtR"
   },
   "source": [
    "- Descrição do problema\n",
    " - Perguntas para serem respondidas utilizando a análise exploratória\n",
    "- Configurações iniciais\n",
    " - Instalando Bibliotecas\n",
    " - Realização dos imports\n",
    " - Conectando ao google drive\n",
    " - Definição de caminhos para a base\n",
    "- Análise exploratória\n",
    " - Definição de funções para a análise exploratória\n",
    " - Principais dúvidas do chat\n",
    " - Palavras que são mais escritas incorretamente\n",
    " - Gírias mais utilizadas pelos clientes\n",
    " - Pontuações mais frequentes nas perguntas\n",
    " - Bigramas mais frequentes nas respostas ao cliente\n",
    "- Definição de funções de etapas de pré-processamento\n",
    " - Lendo base de dados\n",
    " - Definindo funções para o pré-processamento\n",
    "- Uso de Pipeline de pré-processamento\n",
    " - Definição da Pipeline\n",
    " - Execução da pipeline\n",
    " - Exibição de resultados obtidos"
   ]
  },
  {
   "cell_type": "markdown",
   "metadata": {
    "id": "J3zc4X9qIyfp"
   },
   "source": [
    "# Descrição do problema\n",
    "\n",
    "Atualmente, o Serviço de Atendimento ao Cliente (SAC) enfrenta uma alta demanda, com mais de 25 mil atendimentos mensais via chat online (Live Chat) em diversos idiomas. Esta carga de trabalho supera a capacidade de resposta dos atendentes humanos, resultando em atrasos no atendimento e insatisfação dos clientes.\n",
    "\n",
    "Para enfrentar este desafio, será desenvolvido um chatbot baseado em modelos abertos de IA Generativa, destinado ao atendimento de clientes. Este chatbot será controlado por um grupo de usuários internos, permitindo a criação, operação e personalização contínua. Durante o projeto, um desenvolvedor da Brastel, no Brasil, será alocado para auxiliar no desenvolvimento, garantindo que os protótipos possam ser eficazmente utilizados na criação do sistema final completo."
   ]
  },
  {
   "cell_type": "markdown",
   "metadata": {
    "id": "6M2cRgPDt1L2"
   },
   "source": [
    "### Perguntas para serem respondidas utilizando a análise exploratória\n",
    "\n",
    "- Em qual período do dia o chat recebe mais acessos?\n",
    "- Quais são as dúvidas mais perguntadas pelos usuários?\n",
    "- Qual a proporção de palavras recorrentes escritas de maneira errada?\n",
    "- As mensagens costumam ter muitas gírias ou abreviações?\n",
    "- O uso de pontuação é algo comum nas mensagens?\n",
    "- As respostas seguem algum padrão em alguma parte delas?"
   ]
  },
  {
   "cell_type": "markdown",
   "metadata": {
    "id": "roLlmjEfWufl"
   },
   "source": [
    "# Configurações Iniciais"
   ]
  },
  {
   "cell_type": "markdown",
   "metadata": {
    "id": "pXvSuPOGcTdC"
   },
   "source": [
    "## Instalando Bibliotecas"
   ]
  },
  {
   "cell_type": "code",
   "execution_count": 1,
   "metadata": {
    "colab": {
     "base_uri": "https://localhost:8080/"
    },
    "id": "aCACWuPMuh8h",
    "outputId": "bcb1bd4a-65bf-4e4b-df44-43bee89144a1"
   },
   "outputs": [],
   "source": [
    "%%capture\n",
    "\n",
    "!pip install spacy matplotlib spellchecker pandas"
   ]
  },
  {
   "cell_type": "markdown",
   "metadata": {
    "id": "gcT1BocWcVxQ"
   },
   "source": [
    "## Realização dos imports"
   ]
  },
  {
   "cell_type": "code",
   "execution_count": 2,
   "metadata": {
    "colab": {
     "base_uri": "https://localhost:8080/"
    },
    "id": "r_Xv_lrFWjK8",
    "outputId": "b12f0198-8d77-4586-d067-124998b77556"
   },
   "outputs": [],
   "source": [
    "import spacy\n",
    "import re\n",
    "import pandas as pd\n",
    "from IPython.display import display\n",
    "import matplotlib.pyplot as plt\n",
    "from spellchecker import SpellChecker\n",
    "from collections import Counter\n",
    "import matplotlib.pyplot as plt"
   ]
  },
  {
   "cell_type": "markdown",
   "metadata": {
    "id": "tezih3lscZis"
   },
   "source": [
    "## Conectando ao google drive"
   ]
  },
  {
   "cell_type": "code",
   "execution_count": 3,
   "metadata": {
    "colab": {
     "base_uri": "https://localhost:8080/"
    },
    "id": "RSpn7Ol7Hz9z",
    "outputId": "cf7dd920-4a49-46ed-c12c-d235efcb5fb5"
   },
   "outputs": [],
   "source": [
    "from google.colab import drive\n",
    "drive.mount('/content/drive')"
   ]
  },
  {
   "cell_type": "markdown",
   "metadata": {
    "id": "-HM0YUtGcDBz"
   },
   "source": [
    "## Definição de caminhos para a base"
   ]
  },
  {
   "cell_type": "code",
   "execution_count": 4,
   "metadata": {
    "colab": {
     "base_uri": "https://localhost:8080/"
    },
    "id": "xVpzwC7Xaz6M",
    "outputId": "c1bdba94-2a6a-49bc-941e-e570ef017538"
   },
   "outputs": [],
   "source": [
    "DEFAULT_XLS_PATH = \"/content/drive/MyDrive/m11/data/chat_clients.xlsx\"\n",
    "DEFAULT_CSV_PATH = \"/content/drive/MyDrive/m11/data/data.csv\"\n",
    "\n",
    "def get_file_paths():\n",
    "    xls_path = input(f\"Digite o caminho do arquivo Excel (ou pressione Enter para usar o caminho padrão): \")\n",
    "    xls_path = xls_path if xls_path.strip() else DEFAULT_XLS_PATH\n",
    "\n",
    "    csv_path = input(f\"Digite o caminho do arquivo CSV (ou pressione Enter para usar o caminho padrão): \")\n",
    "    csv_path = csv_path if csv_path.strip() else DEFAULT_CSV_PATH\n",
    "\n",
    "    return xls_path, csv_path\n",
    "\n",
    "XLS_PATH, CSV_PATH = get_file_paths()"
   ]
  },
  {
   "cell_type": "markdown",
   "metadata": {
    "id": "St9LyWolW6h6"
   },
   "source": [
    "Nesta etapa, o colab é preparado com a instalação e importação de bibliotecas e pacotes necessários para a execução do projeto."
   ]
  },
  {
   "cell_type": "markdown",
   "metadata": {
    "id": "6G7wrp8BJA53"
   },
   "source": [
    "# Análise exploratória"
   ]
  },
  {
   "cell_type": "markdown",
   "metadata": {
    "id": "UuKMLSQ9ZLKd"
   },
   "source": [
    "## Definição de funções para a análise exploratória"
   ]
  },
  {
   "cell_type": "code",
   "execution_count": 5,
   "metadata": {
    "id": "M2ywYkrDDOJR"
   },
   "outputs": [],
   "source": [
    "nlp = spacy.load(\"pt_core_news_sm\")\n",
    "spell = SpellChecker(language='pt')\n",
    "\n",
    "palavras_para_manter = {\"bom\", \"boa\", \"ótimo\", \"excelente\", \"dia\", \"tarde\", \"noite\"}\n",
    "\n",
    "def remocao_stopword(text):\n",
    "    doc = nlp(text)\n",
    "    filtered_tokens = [\n",
    "        token.text for token in doc \n",
    "        if not token.is_stop or token.text.lower() in palavras_para_manter\n",
    "    ]\n",
    "    return ' '.join(filtered_tokens)\n",
    "\n",
    "def conversao_minuscula(text):\n",
    "    return text.lower()\n",
    "\n",
    "def limpar_sentenca(sentence: str) -> str:\n",
    "    cleaned_sentence = re.sub(r'[^\\w\\s\\'\"áéíóúàèìòùâêîôûãõçÁÉÍÓÚÀÈÌÒÙÂÊÎÔÛÃÕÇ]', ' ', sentence)\n",
    "    cleaned_sentence = re.sub(r'\\s+', ' ', cleaned_sentence).strip()\n",
    "    return cleaned_sentence\n",
    "\n",
    "def verificar_giras_abreviacoes(texto, giras_abreviacoes):\n",
    "    doc = nlp(texto)\n",
    "    giras_encontradas = [token.text for token in doc if token.text.lower() in giras_abreviacoes]\n",
    "    return giras_encontradas\n",
    "\n",
    "def contar_pontuacoes(texto):\n",
    "    doc = nlp(texto)\n",
    "    pontuacoes = [token.text for token in doc if token.is_punct]\n",
    "    return pontuacoes\n",
    "\n",
    "def encontrar_bigramas(texto):\n",
    "    doc = nlp(texto)\n",
    "    tokens = [token.text for token in doc if not token.is_punct and not token.is_space]\n",
    "    tokens = [token for token in tokens if token.isalpha()]\n",
    "    bigramas = list(zip(tokens, tokens[1:]))\n",
    "    frequencias = Counter(bigramas)\n",
    "    return dict(frequencias)\n"
   ]
  },
  {
   "cell_type": "code",
   "execution_count": 6,
   "metadata": {
    "colab": {
     "base_uri": "https://localhost:8080/",
     "height": 424
    },
    "id": "c2iVDEDGDQ6e",
    "outputId": "bd5fa37c-49f8-4fbf-f229-634585ec4728"
   },
   "outputs": [
    {
     "name": "stdout",
     "output_type": "stream",
     "text": [
      "(505, 4)\n"
     ]
    },
    {
     "data": {
      "text/html": [
       "<div>\n",
       "<style scoped>\n",
       "    .dataframe tbody tr th:only-of-type {\n",
       "        vertical-align: middle;\n",
       "    }\n",
       "\n",
       "    .dataframe tbody tr th {\n",
       "        vertical-align: top;\n",
       "    }\n",
       "\n",
       "    .dataframe thead th {\n",
       "        text-align: right;\n",
       "    }\n",
       "</style>\n",
       "<table border=\"1\" class=\"dataframe\">\n",
       "  <thead>\n",
       "    <tr style=\"text-align: right;\">\n",
       "      <th></th>\n",
       "      <th>No</th>\n",
       "      <th>Intencao</th>\n",
       "      <th>Pergunta</th>\n",
       "      <th>Resposta</th>\n",
       "    </tr>\n",
       "  </thead>\n",
       "  <tbody>\n",
       "    <tr>\n",
       "      <th>0</th>\n",
       "      <td>1.0</td>\n",
       "      <td>como depositar</td>\n",
       "      <td>boa dia tudo bem eu gostaria caixa family mart...</td>\n",
       "      <td>bom dia! sim, o sr pode utilizar o cartão de d...</td>\n",
       "    </tr>\n",
       "    <tr>\n",
       "      <th>1</th>\n",
       "      <td>2.0</td>\n",
       "      <td>como fazer remessa</td>\n",
       "      <td>enviar dinheiro japão</td>\n",
       "      <td>para se inscrever no serviço de remessa, por f...</td>\n",
       "    </tr>\n",
       "    <tr>\n",
       "      <th>2</th>\n",
       "      <td>3.0</td>\n",
       "      <td>tempo de remessa</td>\n",
       "      <td>levará beneficiário receber dinheiro</td>\n",
       "      <td>via de regra, as remessas serão pagas via pix ...</td>\n",
       "    </tr>\n",
       "    <tr>\n",
       "      <th>3</th>\n",
       "      <td>4.0</td>\n",
       "      <td>pedido de envio via metodo \"byphone\"</td>\n",
       "      <td>boa tarde acabei transferência 22 23 total 45y...</td>\n",
       "      <td>iremos processar a sua solicitacao.\\nmuito obr...</td>\n",
       "    </tr>\n",
       "    <tr>\n",
       "      <th>4</th>\n",
       "      <td>5.0</td>\n",
       "      <td>pedido de envio via metodo \"byphone\"</td>\n",
       "      <td>poderia remessa 22yenes bbb rrr 23yenes aaaa m...</td>\n",
       "      <td>iremos processar a sua solicitacao.\\nmuito obr...</td>\n",
       "    </tr>\n",
       "    <tr>\n",
       "      <th>...</th>\n",
       "      <td>...</td>\n",
       "      <td>...</td>\n",
       "      <td>...</td>\n",
       "      <td>...</td>\n",
       "    </tr>\n",
       "    <tr>\n",
       "      <th>500</th>\n",
       "      <td>501.0</td>\n",
       "      <td>atualizacao de dados cadastrais</td>\n",
       "      <td>boa tarde mudança endereço</td>\n",
       "      <td>a senhora pode trocar pelo próprio app da bras...</td>\n",
       "    </tr>\n",
       "    <tr>\n",
       "      <th>501</th>\n",
       "      <td>502.0</td>\n",
       "      <td>tempo de entrega do cartao</td>\n",
       "      <td>bom dia consegui depósito cartão chegou fiz pe...</td>\n",
       "      <td>boa noite\\no sr solicitou dia 28. será entregu...</td>\n",
       "    </tr>\n",
       "    <tr>\n",
       "      <th>502</th>\n",
       "      <td>503.0</td>\n",
       "      <td>cancelamento</td>\n",
       "      <td>boa noite beneficiária avisou conta errado ped...</td>\n",
       "      <td>sim, podemos cancelar\\no valor voltará no seu ...</td>\n",
       "    </tr>\n",
       "    <tr>\n",
       "      <th>503</th>\n",
       "      <td>504.0</td>\n",
       "      <td>reembolso</td>\n",
       "      <td>boa noite fiz depósito errado pra depositar co...</td>\n",
       "      <td>é possível solicitar o reembolso diretamente d...</td>\n",
       "    </tr>\n",
       "    <tr>\n",
       "      <th>504</th>\n",
       "      <td>505.0</td>\n",
       "      <td>problemas de remessa</td>\n",
       "      <td>ola recebi ligação central tokyo avisando depó...</td>\n",
       "      <td>enviamos a correção ao nosso correspondente do...</td>\n",
       "    </tr>\n",
       "  </tbody>\n",
       "</table>\n",
       "<p>505 rows × 4 columns</p>\n",
       "</div>"
      ],
      "text/plain": [
       "        No                              Intencao  \\\n",
       "0      1.0                       como depositar    \n",
       "1      2.0                    como fazer remessa   \n",
       "2      3.0                      tempo de remessa   \n",
       "3      4.0  pedido de envio via metodo \"byphone\"   \n",
       "4      5.0  pedido de envio via metodo \"byphone\"   \n",
       "..     ...                                   ...   \n",
       "500  501.0       atualizacao de dados cadastrais   \n",
       "501  502.0            tempo de entrega do cartao   \n",
       "502  503.0                          cancelamento   \n",
       "503  504.0                             reembolso   \n",
       "504  505.0                  problemas de remessa   \n",
       "\n",
       "                                              Pergunta  \\\n",
       "0    boa dia tudo bem eu gostaria caixa family mart...   \n",
       "1                                enviar dinheiro japão   \n",
       "2                 levará beneficiário receber dinheiro   \n",
       "3    boa tarde acabei transferência 22 23 total 45y...   \n",
       "4    poderia remessa 22yenes bbb rrr 23yenes aaaa m...   \n",
       "..                                                 ...   \n",
       "500                         boa tarde mudança endereço   \n",
       "501  bom dia consegui depósito cartão chegou fiz pe...   \n",
       "502  boa noite beneficiária avisou conta errado ped...   \n",
       "503  boa noite fiz depósito errado pra depositar co...   \n",
       "504  ola recebi ligação central tokyo avisando depó...   \n",
       "\n",
       "                                              Resposta  \n",
       "0    bom dia! sim, o sr pode utilizar o cartão de d...  \n",
       "1    para se inscrever no serviço de remessa, por f...  \n",
       "2    via de regra, as remessas serão pagas via pix ...  \n",
       "3    iremos processar a sua solicitacao.\\nmuito obr...  \n",
       "4    iremos processar a sua solicitacao.\\nmuito obr...  \n",
       "..                                                 ...  \n",
       "500  a senhora pode trocar pelo próprio app da bras...  \n",
       "501  boa noite\\no sr solicitou dia 28. será entregu...  \n",
       "502  sim, podemos cancelar\\no valor voltará no seu ...  \n",
       "503  é possível solicitar o reembolso diretamente d...  \n",
       "504  enviamos a correção ao nosso correspondente do...  \n",
       "\n",
       "[505 rows x 4 columns]"
      ]
     },
     "execution_count": 6,
     "metadata": {},
     "output_type": "execute_result"
    }
   ],
   "source": [
    "df = pd.read_csv(CSV_PATH, sep=\";\")\n",
    "\n",
    "df.dropna(axis=1, how=\"all\", inplace=True)\n",
    "df.dropna(axis=0, how=\"all\", inplace=True)\n",
    "\n",
    "df.rename(columns={'Resposta\\n': 'Resposta'}, inplace=True)\n",
    "\n",
    "raw_copy = df.copy()\n",
    "\n",
    "print(df.shape)\n",
    "\n",
    "df['Pergunta'] = df['Pergunta'].apply(remocao_stopword)\n",
    "df['Pergunta'] = df['Pergunta'].apply(conversao_minuscula)\n",
    "df['Intencao'] = df['Intencao'].apply(conversao_minuscula)\n",
    "df['Pergunta'] = df['Pergunta'].apply(limpar_sentenca)\n",
    "df['Resposta'] = df['Resposta'].apply(lambda x: conversao_minuscula(x) if isinstance(x, str) else '')\n",
    "\n",
    "df"
   ]
  },
  {
   "cell_type": "markdown",
   "metadata": {
    "id": "8pBnzXbsDULF"
   },
   "source": [
    "## Principais dúvidas do chat"
   ]
  },
  {
   "cell_type": "code",
   "execution_count": 7,
   "metadata": {},
   "outputs": [
    {
     "data": {
      "text/html": [
       "<div>\n",
       "<style scoped>\n",
       "    .dataframe tbody tr th:only-of-type {\n",
       "        vertical-align: middle;\n",
       "    }\n",
       "\n",
       "    .dataframe tbody tr th {\n",
       "        vertical-align: top;\n",
       "    }\n",
       "\n",
       "    .dataframe thead th {\n",
       "        text-align: right;\n",
       "    }\n",
       "</style>\n",
       "<table border=\"1\" class=\"dataframe\">\n",
       "  <thead>\n",
       "    <tr style=\"text-align: right;\">\n",
       "      <th></th>\n",
       "      <th>No</th>\n",
       "      <th>Intencao</th>\n",
       "      <th>Pergunta</th>\n",
       "      <th>Resposta</th>\n",
       "    </tr>\n",
       "  </thead>\n",
       "  <tbody>\n",
       "    <tr>\n",
       "      <th>0</th>\n",
       "      <td>1.0</td>\n",
       "      <td>como depositar</td>\n",
       "      <td>boa dia tudo bem eu gostaria caixa family mart...</td>\n",
       "      <td>bom dia! sim, o sr pode utilizar o cartão de d...</td>\n",
       "    </tr>\n",
       "    <tr>\n",
       "      <th>1</th>\n",
       "      <td>2.0</td>\n",
       "      <td>como fazer remessa</td>\n",
       "      <td>enviar dinheiro japão</td>\n",
       "      <td>para se inscrever no serviço de remessa, por f...</td>\n",
       "    </tr>\n",
       "    <tr>\n",
       "      <th>2</th>\n",
       "      <td>3.0</td>\n",
       "      <td>tempo de remessa</td>\n",
       "      <td>levará beneficiário receber dinheiro</td>\n",
       "      <td>via de regra, as remessas serão pagas via pix ...</td>\n",
       "    </tr>\n",
       "    <tr>\n",
       "      <th>3</th>\n",
       "      <td>4.0</td>\n",
       "      <td>pedido de envio via metodo \"byphone\"</td>\n",
       "      <td>boa tarde acabei transferência 22 23 total 45y...</td>\n",
       "      <td>iremos processar a sua solicitacao.\\nmuito obr...</td>\n",
       "    </tr>\n",
       "    <tr>\n",
       "      <th>4</th>\n",
       "      <td>5.0</td>\n",
       "      <td>pedido de envio via metodo \"byphone\"</td>\n",
       "      <td>poderia remessa 22yenes bbb rrr 23yenes aaaa m...</td>\n",
       "      <td>iremos processar a sua solicitacao.\\nmuito obr...</td>\n",
       "    </tr>\n",
       "    <tr>\n",
       "      <th>...</th>\n",
       "      <td>...</td>\n",
       "      <td>...</td>\n",
       "      <td>...</td>\n",
       "      <td>...</td>\n",
       "    </tr>\n",
       "    <tr>\n",
       "      <th>500</th>\n",
       "      <td>501.0</td>\n",
       "      <td>atualizacao de dados cadastrais</td>\n",
       "      <td>boa tarde mudança endereço</td>\n",
       "      <td>a senhora pode trocar pelo próprio app da bras...</td>\n",
       "    </tr>\n",
       "    <tr>\n",
       "      <th>501</th>\n",
       "      <td>502.0</td>\n",
       "      <td>tempo de entrega do cartao</td>\n",
       "      <td>bom dia consegui depósito cartão chegou fiz pe...</td>\n",
       "      <td>boa noite\\no sr solicitou dia 28. será entregu...</td>\n",
       "    </tr>\n",
       "    <tr>\n",
       "      <th>502</th>\n",
       "      <td>503.0</td>\n",
       "      <td>cancelamento</td>\n",
       "      <td>boa noite beneficiária avisou conta errado ped...</td>\n",
       "      <td>sim, podemos cancelar\\no valor voltará no seu ...</td>\n",
       "    </tr>\n",
       "    <tr>\n",
       "      <th>503</th>\n",
       "      <td>504.0</td>\n",
       "      <td>reembolso</td>\n",
       "      <td>boa noite fiz depósito errado pra depositar co...</td>\n",
       "      <td>é possível solicitar o reembolso diretamente d...</td>\n",
       "    </tr>\n",
       "    <tr>\n",
       "      <th>504</th>\n",
       "      <td>505.0</td>\n",
       "      <td>problemas de remessa</td>\n",
       "      <td>ola recebi ligação central tokyo avisando depó...</td>\n",
       "      <td>enviamos a correção ao nosso correspondente do...</td>\n",
       "    </tr>\n",
       "  </tbody>\n",
       "</table>\n",
       "<p>505 rows × 4 columns</p>\n",
       "</div>"
      ],
      "text/plain": [
       "        No                              Intencao  \\\n",
       "0      1.0                       como depositar    \n",
       "1      2.0                    como fazer remessa   \n",
       "2      3.0                      tempo de remessa   \n",
       "3      4.0  pedido de envio via metodo \"byphone\"   \n",
       "4      5.0  pedido de envio via metodo \"byphone\"   \n",
       "..     ...                                   ...   \n",
       "500  501.0       atualizacao de dados cadastrais   \n",
       "501  502.0            tempo de entrega do cartao   \n",
       "502  503.0                          cancelamento   \n",
       "503  504.0                             reembolso   \n",
       "504  505.0                  problemas de remessa   \n",
       "\n",
       "                                              Pergunta  \\\n",
       "0    boa dia tudo bem eu gostaria caixa family mart...   \n",
       "1                                enviar dinheiro japão   \n",
       "2                 levará beneficiário receber dinheiro   \n",
       "3    boa tarde acabei transferência 22 23 total 45y...   \n",
       "4    poderia remessa 22yenes bbb rrr 23yenes aaaa m...   \n",
       "..                                                 ...   \n",
       "500                         boa tarde mudança endereço   \n",
       "501  bom dia consegui depósito cartão chegou fiz pe...   \n",
       "502  boa noite beneficiária avisou conta errado ped...   \n",
       "503  boa noite fiz depósito errado pra depositar co...   \n",
       "504  ola recebi ligação central tokyo avisando depó...   \n",
       "\n",
       "                                              Resposta  \n",
       "0    bom dia! sim, o sr pode utilizar o cartão de d...  \n",
       "1    para se inscrever no serviço de remessa, por f...  \n",
       "2    via de regra, as remessas serão pagas via pix ...  \n",
       "3    iremos processar a sua solicitacao.\\nmuito obr...  \n",
       "4    iremos processar a sua solicitacao.\\nmuito obr...  \n",
       "..                                                 ...  \n",
       "500  a senhora pode trocar pelo próprio app da bras...  \n",
       "501  boa noite\\no sr solicitou dia 28. será entregu...  \n",
       "502  sim, podemos cancelar\\no valor voltará no seu ...  \n",
       "503  é possível solicitar o reembolso diretamente d...  \n",
       "504  enviamos a correção ao nosso correspondente do...  \n",
       "\n",
       "[505 rows x 4 columns]"
      ]
     },
     "execution_count": 7,
     "metadata": {},
     "output_type": "execute_result"
    }
   ],
   "source": [
    "df_filtrado = df.copy()\n",
    "df_filtrado"
   ]
  },
  {
   "cell_type": "code",
   "execution_count": 8,
   "metadata": {
    "colab": {
     "base_uri": "https://localhost:8080/",
     "height": 522
    },
    "id": "YXFviCgvDT4y",
    "outputId": "c1b919f5-4910-426d-acb6-7b8f94867a0c"
   },
   "outputs": [
    {
     "data": {
      "image/png": "[encoded data removed]",
      "text/plain": [
       "<Figure size 1000x600 with 1 Axes>"
      ]
     },
     "metadata": {},
     "output_type": "display_data"
    }
   ],
   "source": [
    "contagem = df_filtrado['Intencao'].value_counts()\n",
    "plt.figure(figsize=(10, 6))\n",
    "contagem.plot(kind='barh', color='skyblue')\n",
    "\n",
    "plt.show()"
   ]
  },
  {
   "cell_type": "code",
   "execution_count": 9,
   "metadata": {
    "colab": {
     "base_uri": "https://localhost:8080/",
     "height": 472
    },
    "id": "SQBj4RsfDYVJ",
    "outputId": "83ec833d-6227-4917-ca78-66792e638b4d"
   },
   "outputs": [
    {
     "data": {
      "image/png": "[encoded data removed]",
      "text/plain": [
       "<Figure size 640x480 with 1 Axes>"
      ]
     },
     "metadata": {},
     "output_type": "display_data"
    }
   ],
   "source": [
    "data = {\n",
    "    'mensagens': [\n",
    "        'bom dia',\n",
    "        'boa tarde',\n",
    "        'boa noite'\n",
    "    ]\n",
    "}\n",
    "\n",
    "df_time = pd.DataFrame(data)\n",
    "\n",
    "contagem = {\n",
    "    'bom dia': df_filtrado['Pergunta'].str.contains('bom dia', case=False).sum(),\n",
    "    'boa tarde': df_filtrado['Pergunta'].str.contains('boa tarde', case=False).sum(),\n",
    "    'boa noite': df_filtrado['Pergunta'].str.contains('boa noite', case=False).sum()\n",
    "}\n",
    "\n",
    "plt.barh(list(contagem.keys()), list(contagem.values()), color=['skyblue'])\n",
    "plt.xlabel('Expressão')\n",
    "plt.ylabel('Frequência')\n",
    "plt.title('Contagem de \"bom dia\", \"boa tarde\" e \"boa noite\"')\n",
    "plt.show()"
   ]
  },
  {
   "cell_type": "markdown",
   "metadata": {
    "id": "lVe67tEvDa3S"
   },
   "source": [
    "## Palavras que são mais escritas incorretamente"
   ]
  },
  {
   "cell_type": "code",
   "execution_count": 10,
   "metadata": {
    "id": "V3Em9tUSOkCB"
   },
   "outputs": [],
   "source": [
    "def preprocessar_texto(texto):\n",
    "    texto = texto.lower()\n",
    "    texto = re.sub(r'[^\\w\\s]', '', texto)\n",
    "    return texto\n",
    "\n",
    "def encontrar_erros(texto):\n",
    "    texto = preprocessar_texto(texto)\n",
    "    doc = nlp(texto)\n",
    "    palavras = [token.text for token in doc]\n",
    "    erros = [palavra for palavra in palavras if palavra not in spell]\n",
    "    \n",
    "    return erros\n"
   ]
  },
  {
   "cell_type": "code",
   "execution_count": 11,
   "metadata": {
    "colab": {
     "base_uri": "https://localhost:8080/",
     "height": 654
    },
    "id": "g2o13TgHNQ4_",
    "outputId": "7dfda5ae-f292-4825-83cf-3c38754f83b6"
   },
   "outputs": [
    {
     "data": {
      "text/plain": [
       "(array([ 0., 10., 20., 30., 40., 50., 60., 70., 80.]),\n",
       " [Text(0.0, 0, '0'),\n",
       "  Text(10.0, 0, '10'),\n",
       "  Text(20.0, 0, '20'),\n",
       "  Text(30.0, 0, '30'),\n",
       "  Text(40.0, 0, '40'),\n",
       "  Text(50.0, 0, '50'),\n",
       "  Text(60.0, 0, '60'),\n",
       "  Text(70.0, 0, '70'),\n",
       "  Text(80.0, 0, '80')])"
      ]
     },
     "execution_count": 11,
     "metadata": {},
     "output_type": "execute_result"
    },
    {
     "data": {
      "image/png": "[encoded data removed]",
      "text/plain": [
       "<Figure size 640x480 with 1 Axes>"
      ]
     },
     "metadata": {},
     "output_type": "display_data"
    }
   ],
   "source": [
    "df_filtrado['erros'] = df_filtrado['Pergunta'].apply(lambda x: encontrar_erros(x))\n",
    "todos_erros = [erro for sublist in df_filtrado['erros'] for erro in sublist]\n",
    "contagem_erros = Counter(todos_erros)\n",
    "top_erros = contagem_erros.most_common(10)[1:]\n",
    "palavras, frequencias = zip(*top_erros)\n",
    "plt.barh(list(palavras), list(frequencias), color='skyblue')\n",
    "plt.xlabel('Palavras Erradas')\n",
    "plt.ylabel('Frequência')\n",
    "plt.title('Palavras Escritas Incorretamente')\n",
    "plt.xticks(rotation=45)"
   ]
  },
  {
   "cell_type": "markdown",
   "metadata": {
    "id": "3ari5RMLDfhE"
   },
   "source": [
    "## Gírias mais utilizadas pelos clientes"
   ]
  },
  {
   "cell_type": "code",
   "execution_count": 12,
   "metadata": {
    "colab": {
     "base_uri": "https://localhost:8080/",
     "height": 497
    },
    "id": "ue0DXxeEDdQb",
    "outputId": "d00c808c-2462-4639-d717-bce71c57fc70"
   },
   "outputs": [
    {
     "data": {
      "image/png": "[encoded data removed]",
      "text/plain": [
       "<Figure size 640x480 with 1 Axes>"
      ]
     },
     "metadata": {},
     "output_type": "display_data"
    }
   ],
   "source": [
    "giras_abreviacoes = [\n",
    "    \"rolê\", \"zoar\", \"dahora\", \"massa\", \"mano\", \"man\", \"bicho\", \"treta\", \"falou\",\n",
    "    \"sussa\", \"balada\", \"perifa\", \"bagulho\", \"cabuloso\", \"grana\", \"leco\",\n",
    "    \"vc\", \"tb\", \"blz\", \"qnd\", \"pq\", \"ctz\", \"fds\", \"tbm\", \"mt\", \"flw\", \"n\",\n",
    "    \"td\", \"tlg\", \"tá\", \"lol\", \"brb\", \"omg\", \"btw\", \"asap\"\n",
    "]\n",
    "\n",
    "df_filtrado['giras_encontradas'] = df_filtrado['Pergunta'].apply(lambda x: verificar_giras_abreviacoes(x, giras_abreviacoes))\n",
    "\n",
    "todos_giras = [giria for sublist in df_filtrado['giras_encontradas'] for giria in sublist]\n",
    "contagem_giras = Counter(todos_giras)\n",
    "\n",
    "plt.bar(contagem_giras.keys(), contagem_giras.values(), color='skyblue')\n",
    "plt.xlabel('Gírias e Abreviações')\n",
    "plt.ylabel('Frequência')\n",
    "plt.title('Frequência de Gírias e Abreviações na Coluna')\n",
    "plt.xticks(rotation=45)\n",
    "plt.show()"
   ]
  },
  {
   "cell_type": "markdown",
   "metadata": {
    "id": "_XV5_jz0DjT5"
   },
   "source": [
    "## Pontuações mais frequentes nas perguntas"
   ]
  },
  {
   "cell_type": "code",
   "execution_count": 13,
   "metadata": {
    "colab": {
     "base_uri": "https://localhost:8080/",
     "height": 513
    },
    "id": "yQKFadq7Dk50",
    "outputId": "01d745d0-be64-44b3-9fa4-38b6deb6fed8"
   },
   "outputs": [
    {
     "data": {
      "image/png": "[encoded data removed]",
      "text/plain": [
       "<Figure size 640x480 with 1 Axes>"
      ]
     },
     "metadata": {},
     "output_type": "display_data"
    }
   ],
   "source": [
    "df_copy = raw_copy.copy() \n",
    "\n",
    "df_copy['pontuacoes'] = df_copy['Pergunta'].apply(contar_pontuacoes)\n",
    "\n",
    "todas_pontuacoes = [ponto for sublist in df_copy['pontuacoes'] for ponto in sublist]\n",
    "contagem_pontuacoes = Counter(todas_pontuacoes)\n",
    "\n",
    "top_10_pontuacoes = contagem_pontuacoes.most_common(10)\n",
    "\n",
    "pontuacoes, frequencias = zip(*top_10_pontuacoes)\n",
    "\n",
    "plt.bar(pontuacoes, frequencias, color='skyblue')\n",
    "plt.xlabel('Pontuações')\n",
    "plt.ylabel('Frequência')\n",
    "plt.title('10 Pontuações Mais Frequentes nas perguntas')\n",
    "plt.gca().invert_yaxis()\n",
    "\n",
    "plt.show()"
   ]
  },
  {
   "cell_type": "markdown",
   "metadata": {
    "id": "FdNcJvL1DnJx"
   },
   "source": [
    "## Bigramas mais frequentes nas respostas ao cliente"
   ]
  },
  {
   "cell_type": "code",
   "execution_count": 14,
   "metadata": {
    "colab": {
     "base_uri": "https://localhost:8080/",
     "height": 472
    },
    "id": "M2_lpUa6DouO",
    "outputId": "662f1dcf-1ec9-453f-ba31-275a5c5f6289"
   },
   "outputs": [
    {
     "data": {
      "image/png": "[encoded data removed]",
      "text/plain": [
       "<Figure size 640x480 with 1 Axes>"
      ]
     },
     "metadata": {},
     "output_type": "display_data"
    }
   ],
   "source": [
    "todos_bigramas = Counter()\n",
    "\n",
    "for texto in df['Resposta']:\n",
    "    try:\n",
    "        bigramas = encontrar_bigramas(texto)\n",
    "        todos_bigramas.update(bigramas)\n",
    "    except Exception as e:\n",
    "        print(f\"Erro ao processar o texto: {e}\")\n",
    "        pass\n",
    "\n",
    "top_10_bigramas = todos_bigramas.most_common(10)\n",
    "bigramas, frequencias = zip(*top_10_bigramas)\n",
    "\n",
    "bigramas = [' '.join(bigrama) for bigrama in bigramas]\n",
    "\n",
    "plt.barh(bigramas, frequencias, color='skyblue')\n",
    "plt.xlabel('Frequência')\n",
    "plt.ylabel('Bigramas')\n",
    "plt.title('10 Bigramas Mais Frequentes')\n",
    "plt.gca().invert_yaxis()\n",
    "plt.show()\n",
    "\n"
   ]
  },
  {
   "cell_type": "markdown",
   "metadata": {
    "id": "hrEW1cQHJDhY"
   },
   "source": [
    "# Definição de funções de etapas de pré-processamento"
   ]
  },
  {
   "cell_type": "markdown",
   "metadata": {
    "id": "f0lDFG9dZW5q"
   },
   "source": [
    "## lendo base de dados"
   ]
  },
  {
   "cell_type": "code",
   "execution_count": 15,
   "metadata": {
    "colab": {
     "base_uri": "https://localhost:8080/"
    },
    "id": "bb4_jkDXH_VJ",
    "outputId": "c87e037f-69eb-493d-8867-56572d711023"
   },
   "outputs": [
    {
     "data": {
      "text/html": [
       "<div>\n",
       "<style scoped>\n",
       "    .dataframe tbody tr th:only-of-type {\n",
       "        vertical-align: middle;\n",
       "    }\n",
       "\n",
       "    .dataframe tbody tr th {\n",
       "        vertical-align: top;\n",
       "    }\n",
       "\n",
       "    .dataframe thead th {\n",
       "        text-align: right;\n",
       "    }\n",
       "</style>\n",
       "<table border=\"1\" class=\"dataframe\">\n",
       "  <thead>\n",
       "    <tr style=\"text-align: right;\">\n",
       "      <th></th>\n",
       "      <th>No</th>\n",
       "      <th>Intencao</th>\n",
       "      <th>Pergunta</th>\n",
       "      <th>Resposta</th>\n",
       "    </tr>\n",
       "  </thead>\n",
       "  <tbody>\n",
       "    <tr>\n",
       "      <th>0</th>\n",
       "      <td>1.0</td>\n",
       "      <td>como depositar</td>\n",
       "      <td>boa dia tudo bem eu gostaria caixa family mart...</td>\n",
       "      <td>bom dia! sim, o sr pode utilizar o cartão de d...</td>\n",
       "    </tr>\n",
       "    <tr>\n",
       "      <th>1</th>\n",
       "      <td>2.0</td>\n",
       "      <td>como fazer remessa</td>\n",
       "      <td>enviar dinheiro japão</td>\n",
       "      <td>para se inscrever no serviço de remessa, por f...</td>\n",
       "    </tr>\n",
       "    <tr>\n",
       "      <th>2</th>\n",
       "      <td>3.0</td>\n",
       "      <td>tempo de remessa</td>\n",
       "      <td>levará beneficiário receber dinheiro</td>\n",
       "      <td>via de regra, as remessas serão pagas via pix ...</td>\n",
       "    </tr>\n",
       "    <tr>\n",
       "      <th>3</th>\n",
       "      <td>4.0</td>\n",
       "      <td>pedido de envio via metodo \"byphone\"</td>\n",
       "      <td>boa tarde acabei transferência 22 23 total 45y...</td>\n",
       "      <td>iremos processar a sua solicitacao.\\nmuito obr...</td>\n",
       "    </tr>\n",
       "    <tr>\n",
       "      <th>4</th>\n",
       "      <td>5.0</td>\n",
       "      <td>pedido de envio via metodo \"byphone\"</td>\n",
       "      <td>poderia remessa 22yenes bbb rrr 23yenes aaaa m...</td>\n",
       "      <td>iremos processar a sua solicitacao.\\nmuito obr...</td>\n",
       "    </tr>\n",
       "    <tr>\n",
       "      <th>...</th>\n",
       "      <td>...</td>\n",
       "      <td>...</td>\n",
       "      <td>...</td>\n",
       "      <td>...</td>\n",
       "    </tr>\n",
       "    <tr>\n",
       "      <th>500</th>\n",
       "      <td>501.0</td>\n",
       "      <td>atualizacao de dados cadastrais</td>\n",
       "      <td>boa tarde mudança endereço</td>\n",
       "      <td>a senhora pode trocar pelo próprio app da bras...</td>\n",
       "    </tr>\n",
       "    <tr>\n",
       "      <th>501</th>\n",
       "      <td>502.0</td>\n",
       "      <td>tempo de entrega do cartao</td>\n",
       "      <td>bom dia consegui depósito cartão chegou fiz pe...</td>\n",
       "      <td>boa noite\\no sr solicitou dia 28. será entregu...</td>\n",
       "    </tr>\n",
       "    <tr>\n",
       "      <th>502</th>\n",
       "      <td>503.0</td>\n",
       "      <td>cancelamento</td>\n",
       "      <td>boa noite beneficiária avisou conta errado ped...</td>\n",
       "      <td>sim, podemos cancelar\\no valor voltará no seu ...</td>\n",
       "    </tr>\n",
       "    <tr>\n",
       "      <th>503</th>\n",
       "      <td>504.0</td>\n",
       "      <td>reembolso</td>\n",
       "      <td>boa noite fiz depósito errado pra depositar co...</td>\n",
       "      <td>é possível solicitar o reembolso diretamente d...</td>\n",
       "    </tr>\n",
       "    <tr>\n",
       "      <th>504</th>\n",
       "      <td>505.0</td>\n",
       "      <td>problemas de remessa</td>\n",
       "      <td>ola recebi ligação central tokyo avisando depó...</td>\n",
       "      <td>enviamos a correção ao nosso correspondente do...</td>\n",
       "    </tr>\n",
       "  </tbody>\n",
       "</table>\n",
       "<p>505 rows × 4 columns</p>\n",
       "</div>"
      ],
      "text/plain": [
       "        No                              Intencao  \\\n",
       "0      1.0                       como depositar    \n",
       "1      2.0                    como fazer remessa   \n",
       "2      3.0                      tempo de remessa   \n",
       "3      4.0  pedido de envio via metodo \"byphone\"   \n",
       "4      5.0  pedido de envio via metodo \"byphone\"   \n",
       "..     ...                                   ...   \n",
       "500  501.0       atualizacao de dados cadastrais   \n",
       "501  502.0            tempo de entrega do cartao   \n",
       "502  503.0                          cancelamento   \n",
       "503  504.0                             reembolso   \n",
       "504  505.0                  problemas de remessa   \n",
       "\n",
       "                                              Pergunta  \\\n",
       "0    boa dia tudo bem eu gostaria caixa family mart...   \n",
       "1                                enviar dinheiro japão   \n",
       "2                 levará beneficiário receber dinheiro   \n",
       "3    boa tarde acabei transferência 22 23 total 45y...   \n",
       "4    poderia remessa 22yenes bbb rrr 23yenes aaaa m...   \n",
       "..                                                 ...   \n",
       "500                         boa tarde mudança endereço   \n",
       "501  bom dia consegui depósito cartão chegou fiz pe...   \n",
       "502  boa noite beneficiária avisou conta errado ped...   \n",
       "503  boa noite fiz depósito errado pra depositar co...   \n",
       "504  ola recebi ligação central tokyo avisando depó...   \n",
       "\n",
       "                                              Resposta  \n",
       "0    bom dia! sim, o sr pode utilizar o cartão de d...  \n",
       "1    para se inscrever no serviço de remessa, por f...  \n",
       "2    via de regra, as remessas serão pagas via pix ...  \n",
       "3    iremos processar a sua solicitacao.\\nmuito obr...  \n",
       "4    iremos processar a sua solicitacao.\\nmuito obr...  \n",
       "..                                                 ...  \n",
       "500  a senhora pode trocar pelo próprio app da bras...  \n",
       "501  boa noite\\no sr solicitou dia 28. será entregu...  \n",
       "502  sim, podemos cancelar\\no valor voltará no seu ...  \n",
       "503  é possível solicitar o reembolso diretamente d...  \n",
       "504  enviamos a correção ao nosso correspondente do...  \n",
       "\n",
       "[505 rows x 4 columns]"
      ]
     },
     "execution_count": 15,
     "metadata": {},
     "output_type": "execute_result"
    }
   ],
   "source": [
    "copy = df.copy()\n",
    "\n",
    "copy"
   ]
  },
  {
   "cell_type": "code",
   "execution_count": 16,
   "metadata": {
    "colab": {
     "base_uri": "https://localhost:8080/",
     "height": 224
    },
    "id": "Rnk4yfpXRhJI",
    "outputId": "deac5312-99c9-4a6b-b1cb-338e396443f7"
   },
   "outputs": [
    {
     "name": "stdout",
     "output_type": "stream",
     "text": [
      "(505, 4)\n"
     ]
    },
    {
     "data": {
      "text/html": [
       "<div>\n",
       "<style scoped>\n",
       "    .dataframe tbody tr th:only-of-type {\n",
       "        vertical-align: middle;\n",
       "    }\n",
       "\n",
       "    .dataframe tbody tr th {\n",
       "        vertical-align: top;\n",
       "    }\n",
       "\n",
       "    .dataframe thead th {\n",
       "        text-align: right;\n",
       "    }\n",
       "</style>\n",
       "<table border=\"1\" class=\"dataframe\">\n",
       "  <thead>\n",
       "    <tr style=\"text-align: right;\">\n",
       "      <th></th>\n",
       "      <th>No</th>\n",
       "      <th>Intencao</th>\n",
       "      <th>Pergunta</th>\n",
       "      <th>Resposta</th>\n",
       "    </tr>\n",
       "  </thead>\n",
       "  <tbody>\n",
       "    <tr>\n",
       "      <th>0</th>\n",
       "      <td>1.0</td>\n",
       "      <td>como depositar</td>\n",
       "      <td>boa dia tudo bem eu gostaria caixa family mart...</td>\n",
       "      <td>bom dia! sim, o sr pode utilizar o cartão de d...</td>\n",
       "    </tr>\n",
       "    <tr>\n",
       "      <th>1</th>\n",
       "      <td>2.0</td>\n",
       "      <td>como fazer remessa</td>\n",
       "      <td>enviar dinheiro japão</td>\n",
       "      <td>para se inscrever no serviço de remessa, por f...</td>\n",
       "    </tr>\n",
       "    <tr>\n",
       "      <th>2</th>\n",
       "      <td>3.0</td>\n",
       "      <td>tempo de remessa</td>\n",
       "      <td>levará beneficiário receber dinheiro</td>\n",
       "      <td>via de regra, as remessas serão pagas via pix ...</td>\n",
       "    </tr>\n",
       "    <tr>\n",
       "      <th>3</th>\n",
       "      <td>4.0</td>\n",
       "      <td>pedido de envio via metodo \"byphone\"</td>\n",
       "      <td>boa tarde acabei transferência 22 23 total 45y...</td>\n",
       "      <td>iremos processar a sua solicitacao.\\nmuito obr...</td>\n",
       "    </tr>\n",
       "    <tr>\n",
       "      <th>4</th>\n",
       "      <td>5.0</td>\n",
       "      <td>pedido de envio via metodo \"byphone\"</td>\n",
       "      <td>poderia remessa 22yenes bbb rrr 23yenes aaaa m...</td>\n",
       "      <td>iremos processar a sua solicitacao.\\nmuito obr...</td>\n",
       "    </tr>\n",
       "  </tbody>\n",
       "</table>\n",
       "</div>"
      ],
      "text/plain": [
       "    No                              Intencao  \\\n",
       "0  1.0                       como depositar    \n",
       "1  2.0                    como fazer remessa   \n",
       "2  3.0                      tempo de remessa   \n",
       "3  4.0  pedido de envio via metodo \"byphone\"   \n",
       "4  5.0  pedido de envio via metodo \"byphone\"   \n",
       "\n",
       "                                            Pergunta  \\\n",
       "0  boa dia tudo bem eu gostaria caixa family mart...   \n",
       "1                              enviar dinheiro japão   \n",
       "2               levará beneficiário receber dinheiro   \n",
       "3  boa tarde acabei transferência 22 23 total 45y...   \n",
       "4  poderia remessa 22yenes bbb rrr 23yenes aaaa m...   \n",
       "\n",
       "                                            Resposta  \n",
       "0  bom dia! sim, o sr pode utilizar o cartão de d...  \n",
       "1  para se inscrever no serviço de remessa, por f...  \n",
       "2  via de regra, as remessas serão pagas via pix ...  \n",
       "3  iremos processar a sua solicitacao.\\nmuito obr...  \n",
       "4  iremos processar a sua solicitacao.\\nmuito obr...  "
      ]
     },
     "execution_count": 16,
     "metadata": {},
     "output_type": "execute_result"
    }
   ],
   "source": [
    "print(copy.shape)\n",
    "copy.head()"
   ]
  },
  {
   "cell_type": "markdown",
   "metadata": {
    "id": "lmvywLM_ZfdF"
   },
   "source": [
    "## Definindo funções para o pré-processamento"
   ]
  },
  {
   "cell_type": "code",
   "execution_count": 17,
   "metadata": {
    "id": "48KCjsL7WeJT"
   },
   "outputs": [],
   "source": [
    "def segmentar(texto):\n",
    "    doc = nlp(texto)\n",
    "    return [sent.text for sent in doc.sents]\n",
    "\n",
    "def tokenizar(texto):\n",
    "    doc = nlp(texto)\n",
    "    return [token.text for token in doc]\n",
    "\n",
    "def lematizar(tokens):\n",
    "    doc = nlp(\" \".join(tokens))\n",
    "    return [token.lemma_ for token in doc]\n",
    "\n",
    "def stemming(tokens):\n",
    "    doc = nlp(\" \".join(tokens))\n",
    "    return [token.lemma_ for token in doc]\n",
    "\n",
    "def remover_stopwords(tokens):\n",
    "    doc = nlp(\" \".join(tokens))\n",
    "    return [token.text for token in doc if not token.is_stop]\n",
    "\n",
    "def pos_tagging(tokens):\n",
    "    doc = nlp(\" \".join(tokens))\n",
    "    return [(token.text, token.pos_) for token in doc]\n",
    "\n",
    "def remover_pontuacao(tokens):\n",
    "    doc = nlp(\" \".join(tokens))\n",
    "    return [token.text for token in doc if not token.is_punct]\n",
    "\n",
    "def reconhecimento_entidades_nomeadas(tokens):\n",
    "    if isinstance(tokens, list):\n",
    "        texto = ' '.join(tokens)\n",
    "    else:\n",
    "        texto = tokens\n",
    "    \n",
    "    doc = nlp(texto)\n",
    "    entities = [(ent.text, ent.label_) for ent in doc.ents]\n",
    "    return entities\n"
   ]
  },
  {
   "cell_type": "markdown",
   "metadata": {
    "id": "x89rA5ZBN7Ct"
   },
   "source": [
    "## Testes das funções de pré-processamento"
   ]
  },
  {
   "cell_type": "code",
   "execution_count": 18,
   "metadata": {
    "id": "nZMyGSaeOEdo"
   },
   "outputs": [],
   "source": [
    "# Texto de exemplo\n",
    "texto = \"O Leandro comprou um carro novo. Ele está muito feliz com a nova aquisição!\""
   ]
  },
  {
   "cell_type": "code",
   "execution_count": 19,
   "metadata": {
    "colab": {
     "base_uri": "https://localhost:8080/"
    },
    "id": "wdYc3SgRPAUd",
    "outputId": "9ee2ce48-2c7a-499d-bf74-5ec754c0bec6"
   },
   "outputs": [
    {
     "name": "stdout",
     "output_type": "stream",
     "text": [
      "Teste de segmentação passou!\n"
     ]
    }
   ],
   "source": [
    "# Teste da função segmentar\n",
    "resultado_esperado_segmentar = ['O Leandro comprou um carro novo.', 'Ele está muito feliz com a nova aquisição!']\n",
    "resultado_obtido_segmentar = segmentar(texto)\n",
    "assert resultado_obtido_segmentar == resultado_esperado_segmentar, f\"Erro no teste de segmentação. Esperado: {resultado_esperado_segmentar}, Obtido: {resultado_obtido_segmentar}\"\n",
    "print(\"Teste de segmentação passou!\")"
   ]
  },
  {
   "cell_type": "code",
   "execution_count": 20,
   "metadata": {
    "colab": {
     "base_uri": "https://localhost:8080/"
    },
    "id": "Au1YCswyPilG",
    "outputId": "2d8a829e-d1c4-4eef-c5fe-501940449b9c"
   },
   "outputs": [
    {
     "name": "stdout",
     "output_type": "stream",
     "text": [
      "Teste de tokenização passou!\n"
     ]
    }
   ],
   "source": [
    "# Teste da função tokenizar\n",
    "resultado_esperado_tokenizar = ['O', 'Leandro', 'comprou', 'um', 'carro', 'novo', '.', 'Ele', 'está', 'muito', 'feliz', 'com', 'a', 'nova', 'aquisição', '!']\n",
    "resultado_obtido_tokenizar = tokenizar(texto)\n",
    "assert resultado_obtido_tokenizar == resultado_esperado_tokenizar, f\"Erro no teste de tokenização. Esperado: {resultado_esperado_tokenizar}, Obtido: {resultado_obtido_tokenizar}\"\n",
    "print(\"Teste de tokenização passou!\")"
   ]
  },
  {
   "cell_type": "code",
   "execution_count": 21,
   "metadata": {
    "colab": {
     "base_uri": "https://localhost:8080/"
    },
    "id": "kEgubes5P2wJ",
    "outputId": "4b9fef97-2b35-4729-c3b9-9a146a9b9715"
   },
   "outputs": [
    {
     "name": "stdout",
     "output_type": "stream",
     "text": [
      "Teste de lematização passou!\n"
     ]
    }
   ],
   "source": [
    "# Teste da função lematizar\n",
    "tokens_exemplo = ['Leandro', 'comprou', 'carros']\n",
    "resultado_esperado_lematizar = ['Leandro', 'comprar', 'carro']\n",
    "resultado_obtido_lematizar = lematizar(tokens_exemplo)\n",
    "assert resultado_obtido_lematizar == resultado_esperado_lematizar, f\"Erro no teste de lematização. Esperado: {resultado_esperado_lematizar}, Obtido: {resultado_obtido_lematizar}\"\n",
    "print(\"Teste de lematização passou!\")"
   ]
  },
  {
   "cell_type": "code",
   "execution_count": 22,
   "metadata": {
    "colab": {
     "base_uri": "https://localhost:8080/"
    },
    "id": "pQ1PcigmQnF3",
    "outputId": "0bec9991-303d-48db-fc04-f2894d8ecbd0"
   },
   "outputs": [
    {
     "name": "stdout",
     "output_type": "stream",
     "text": [
      "Teste de remoção de stopwords passou!\n"
     ]
    }
   ],
   "source": [
    "# Teste da função remover_stopwords\n",
    "resultado_esperado_remover_stopwords = ['Leandro', 'comprou', 'carros']\n",
    "resultado_obtido_remover_stopwords = remover_stopwords(tokens_exemplo)\n",
    "assert resultado_obtido_remover_stopwords == resultado_esperado_remover_stopwords, f\"Erro no teste de remoção de stopwords. Esperado: {resultado_esperado_remover_stopwords}, Obtido: {resultado_obtido_remover_stopwords}\"\n",
    "print(\"Teste de remoção de stopwords passou!\")"
   ]
  },
  {
   "cell_type": "code",
   "execution_count": 23,
   "metadata": {
    "colab": {
     "base_uri": "https://localhost:8080/"
    },
    "id": "GfkiBTc4Q8m-",
    "outputId": "0a7ce518-652e-45af-888e-121ac33497fd"
   },
   "outputs": [
    {
     "name": "stdout",
     "output_type": "stream",
     "text": [
      "Teste de POS tagging passou!\n"
     ]
    }
   ],
   "source": [
    "# Teste da função pos_tagging\n",
    "resultado_esperado_pos_tagging = [('Leandro', 'PROPN'), ('comprou', 'VERB'), ('carros', 'NOUN')]\n",
    "resultado_obtido_pos_tagging = pos_tagging(tokens_exemplo)\n",
    "assert resultado_obtido_pos_tagging == resultado_esperado_pos_tagging, f\"Erro no teste de POS tagging. Esperado: {resultado_esperado_pos_tagging}, Obtido: {resultado_obtido_pos_tagging}\"\n",
    "print(\"Teste de POS tagging passou!\")"
   ]
  },
  {
   "cell_type": "code",
   "execution_count": 24,
   "metadata": {
    "colab": {
     "base_uri": "https://localhost:8080/"
    },
    "id": "u555FkX3RfV6",
    "outputId": "960eb162-ac24-4cf3-aed9-131920187c2c"
   },
   "outputs": [
    {
     "name": "stdout",
     "output_type": "stream",
     "text": [
      "Teste de remoção de pontuação passou!\n"
     ]
    }
   ],
   "source": [
    "# Teste da função remover_pontuacao\n",
    "tokens_com_pontuacao = ['Leandro', ',', 'comprou', 'carros', '.']\n",
    "resultado_esperado_remover_pontuacao = ['Leandro', 'comprou', 'carros']\n",
    "resultado_obtido_remover_pontuacao = remover_pontuacao(tokens_com_pontuacao)\n",
    "assert resultado_obtido_remover_pontuacao == resultado_esperado_remover_pontuacao, f\"Erro no teste de remoção de pontuação. Esperado: {resultado_esperado_remover_pontuacao}, Obtido: {resultado_obtido_remover_pontuacao}\"\n",
    "print(\"Teste de remoção de pontuação passou!\")"
   ]
  },
  {
   "cell_type": "code",
   "execution_count": 25,
   "metadata": {
    "colab": {
     "base_uri": "https://localhost:8080/"
    },
    "id": "4bYSo1OmR2vq",
    "outputId": "d7d7bd7a-5e80-4ae9-d252-9d41fb9feb47"
   },
   "outputs": [
    {
     "name": "stdout",
     "output_type": "stream",
     "text": [
      "Teste de reconhecimento de entidades nomeadas passou!\n"
     ]
    }
   ],
   "source": [
    "# Teste da função reconhecimento_entidades_nomeadas\n",
    "resultado_esperado_reconhecimento_entidades = [('Leandro', 'PER')]\n",
    "resultado_obtido_reconhecimento_entidades = reconhecimento_entidades_nomeadas(tokens_exemplo)\n",
    "assert resultado_obtido_reconhecimento_entidades == resultado_esperado_reconhecimento_entidades, f\"Erro no teste de reconhecimento de entidades nomeadas. Esperado: {resultado_esperado_reconhecimento_entidades}, Obtido: {resultado_obtido_reconhecimento_entidades}\"\n",
    "print(\"Teste de reconhecimento de entidades nomeadas passou!\")"
   ]
  },
  {
   "cell_type": "markdown",
   "metadata": {
    "id": "s2HfMe9bJH3o"
   },
   "source": [
    "# Uso de Pipeline de pré-processamento"
   ]
  },
  {
   "cell_type": "markdown",
   "metadata": {
    "id": "gvkZCf_tZ2Ht"
   },
   "source": [
    "## Definição da Pipeline"
   ]
  },
  {
   "cell_type": "code",
   "execution_count": 26,
   "metadata": {
    "id": "NKgDbgQhZV-h"
   },
   "outputs": [],
   "source": [
    "import random\n",
    "from collections import Counter\n",
    "\n",
    "def pipeline_preprocessamento(texto, aplicar_segmentacao=True, aplicar_tokenizacao=True, aplicar_lematizacao=True,\n",
    "                              aplicar_stemming=True, aplicar_remocao_stopwords=True, aplicar_pos_tagging=True,\n",
    "                              aplicar_reconhecimento_entidades=True, aplicar_remocao_pontuacao=True):\n",
    "    if aplicar_segmentacao:\n",
    "        sentencas = segmentar(texto)\n",
    "    else:\n",
    "        sentencas = [texto]\n",
    "\n",
    "    all_tokens = []\n",
    "\n",
    "    for sentenca in sentencas:\n",
    "        if aplicar_tokenizacao:\n",
    "            tokens = tokenizar(sentenca)\n",
    "            if aplicar_lematizacao:\n",
    "                tokens = lematizar(tokens)\n",
    "            if aplicar_remocao_pontuacao:\n",
    "                tokens = remover_pontuacao(tokens)\n",
    "            if aplicar_remocao_stopwords:\n",
    "                tokens = remover_stopwords(tokens)\n",
    "            if aplicar_stemming:\n",
    "                tokens = stemming(tokens)\n",
    "            all_tokens.extend(tokens)\n",
    "\n",
    "    bow_counter = Counter(all_tokens)\n",
    "\n",
    "    used_random_numbers = set()\n",
    "\n",
    "    resultados = []\n",
    "    for sentenca in sentencas:\n",
    "        print(f\"Processing sentence: {sentenca}\")\n",
    "\n",
    "        output = {'Sentenca Original': sentenca}\n",
    "\n",
    "        if aplicar_tokenizacao:\n",
    "            tokens = tokenizar(sentenca)\n",
    "            print(f\"Tokens: {tokens}\")\n",
    "\n",
    "        if aplicar_lematizacao:\n",
    "            tokens = lematizar(tokens)\n",
    "            print(f\"Lemmatized Tokens: {tokens}\")\n",
    "\n",
    "        if aplicar_reconhecimento_entidades:\n",
    "            entidades = reconhecimento_entidades_nomeadas(tokens)\n",
    "            print(f\"Named Entities: {entidades}\")\n",
    "            named_entity_tokens = {entity[0] for entity in entidades}\n",
    "        else:\n",
    "            named_entity_tokens = set()\n",
    "\n",
    "        if aplicar_remocao_pontuacao:\n",
    "            tokens = remover_pontuacao(tokens)\n",
    "            print(f\"Tokens after Punctuation Removal: {tokens}\")\n",
    "\n",
    "        if aplicar_remocao_stopwords:\n",
    "            tokens = remover_stopwords(tokens)\n",
    "            print(f\"Tokens after Stopword Removal: {tokens}\")\n",
    "\n",
    "        if aplicar_pos_tagging:\n",
    "            pos_tags = pos_tagging(tokens)\n",
    "            print(f\"POS Tags: {pos_tags}\")\n",
    "            pos_tag_dict = {word: tag for word, tag in pos_tags}\n",
    "        else:\n",
    "            pos_tag_dict = {}\n",
    "\n",
    "        if aplicar_stemming:\n",
    "            stemmed_tokens = stemming(tokens)\n",
    "            print(f\"Stemmed Tokens: {stemmed_tokens}\")\n",
    "\n",
    "        sentence_counter = Counter(tokens)\n",
    "\n",
    "        seen_tokens = set()\n",
    "        combined_info = []\n",
    "        for stem, token in zip(stemmed_tokens, tokens):\n",
    "            if token not in seen_tokens:\n",
    "                seen_tokens.add(token)\n",
    "                is_named = True if token in named_entity_tokens else False\n",
    "                pos = pos_tag_dict.get(token, \"None\")\n",
    "                sentence_count = sentence_counter[token]\n",
    "\n",
    "                random_number = random.randint(1, 1000)\n",
    "                while random_number in used_random_numbers:\n",
    "                    random_number = random.randint(1, 1000)\n",
    "                used_random_numbers.add(random_number)\n",
    "\n",
    "                combined_info.append([stem, is_named, pos, sentence_count, random_number])\n",
    "\n",
    "        output['words'] = combined_info\n",
    "        resultados.append(output)\n",
    "\n",
    "        print(\"________________________________________________________\")\n",
    "\n",
    "    return resultados"
   ]
  },
  {
   "cell_type": "markdown",
   "metadata": {
    "id": "5xFstIG7Z5nK"
   },
   "source": [
    "## Execução da pipeline"
   ]
  },
  {
   "cell_type": "code",
   "execution_count": 27,
   "metadata": {
    "colab": {
     "base_uri": "https://localhost:8080/",
     "height": 612
    },
    "id": "s0oxxhGiaNmc",
    "outputId": "935720c1-e190-44cb-81df-754decd28ef2"
   },
   "outputs": [
    {
     "name": "stdout",
     "output_type": "stream",
     "text": [
      "Processing sentence: O presidente da França, Emmanuel Macron, visitou Lisboa na semana passada.\n",
      "Tokens: ['O', 'presidente', 'da', 'França', ',', 'Emmanuel', 'Macron', ',', 'visitou', 'Lisboa', 'na', 'semana', 'passada', '.']\n",
      "Lemmatized Tokens: ['o', 'presidente', 'de o', 'França', ',', 'Emmanuel', 'Macron', ',', 'visitar', 'Lisboa', 'em o', 'semana', 'passado', '.']\n",
      "Named Entities: [('França', 'LOC'), ('Emmanuel Macron', 'PER'), ('Lisboa', 'LOC')]\n",
      "Tokens after Punctuation Removal: ['o', 'presidente', 'de', 'o', 'França', 'Emmanuel', 'Macron', 'visitar', 'Lisboa', 'em', 'o', 'semana', 'passado']\n",
      "Tokens after Stopword Removal: ['presidente', 'França', 'Emmanuel', 'Macron', 'visitar', 'Lisboa', 'semana', 'passado']\n",
      "POS Tags: [('presidente', 'NOUN'), ('França', 'PROPN'), ('Emmanuel', 'PROPN'), ('Macron', 'PROPN'), ('visitar', 'VERB'), ('Lisboa', 'PROPN'), ('semana', 'NOUN'), ('passado', 'ADJ')]\n",
      "Stemmed Tokens: ['presidente', 'França', 'Emmanuel', 'Macron', 'visitar', 'Lisboa', 'semana', 'passado']\n",
      "________________________________________________________\n",
      "Processing sentence: Ele discutiu sobre a economia e a cultura local.\n",
      "Tokens: ['Ele', 'discutiu', 'sobre', 'a', 'economia', 'e', 'a', 'cultura', 'local', '.']\n",
      "Lemmatized Tokens: ['ele', 'discutir', 'sobre', 'o', 'economia', 'e', 'o', 'cultura', 'local', '.']\n",
      "Named Entities: []\n",
      "Tokens after Punctuation Removal: ['ele', 'discutir', 'sobre', 'o', 'economia', 'e', 'o', 'cultura', 'local']\n",
      "Tokens after Stopword Removal: ['discutir', 'economia', 'cultura']\n",
      "POS Tags: [('discutir', 'VERB'), ('economia', 'NOUN'), ('cultura', 'ADJ')]\n",
      "Stemmed Tokens: ['discutir', 'economia', 'culturo']\n",
      "________________________________________________________\n",
      "Processing sentence: Emmanuel Emmanuel é zika.\n",
      "Tokens: ['Emmanuel', 'Emmanuel', 'é', 'zika', '.']\n",
      "Lemmatized Tokens: ['Emmanuel', 'Emmanuel', 'ser', 'zika', '.']\n",
      "Named Entities: [('Emmanuel Emmanuel', 'PER')]\n",
      "Tokens after Punctuation Removal: ['Emmanuel', 'Emmanuel', 'ser', 'zika']\n",
      "Tokens after Stopword Removal: ['Emmanuel', 'Emmanuel', 'zika']\n",
      "POS Tags: [('Emmanuel', 'PROPN'), ('Emmanuel', 'PROPN'), ('zika', 'PROPN')]\n",
      "Stemmed Tokens: ['Emmanuel', 'Emmanuel', 'zika']\n",
      "________________________________________________________\n"
     ]
    },
    {
     "data": {
      "text/html": [
       "<div>\n",
       "<style scoped>\n",
       "    .dataframe tbody tr th:only-of-type {\n",
       "        vertical-align: middle;\n",
       "    }\n",
       "\n",
       "    .dataframe tbody tr th {\n",
       "        vertical-align: top;\n",
       "    }\n",
       "\n",
       "    .dataframe thead th {\n",
       "        text-align: right;\n",
       "    }\n",
       "</style>\n",
       "<table border=\"1\" class=\"dataframe\">\n",
       "  <thead>\n",
       "    <tr style=\"text-align: right;\">\n",
       "      <th></th>\n",
       "      <th>Sentenca Original</th>\n",
       "      <th>words</th>\n",
       "    </tr>\n",
       "  </thead>\n",
       "  <tbody>\n",
       "    <tr>\n",
       "      <th>0</th>\n",
       "      <td>O presidente da França, Emmanuel Macron, visit...</td>\n",
       "      <td>[[presidente, False, NOUN, 1, 658], [França, T...</td>\n",
       "    </tr>\n",
       "    <tr>\n",
       "      <th>1</th>\n",
       "      <td>Ele discutiu sobre a economia e a cultura local.</td>\n",
       "      <td>[[discutir, False, VERB, 1, 527], [economia, F...</td>\n",
       "    </tr>\n",
       "    <tr>\n",
       "      <th>2</th>\n",
       "      <td>Emmanuel Emmanuel é zika.</td>\n",
       "      <td>[[Emmanuel, False, PROPN, 2, 916], [zika, Fals...</td>\n",
       "    </tr>\n",
       "  </tbody>\n",
       "</table>\n",
       "</div>"
      ],
      "text/plain": [
       "                                   Sentenca Original  \\\n",
       "0  O presidente da França, Emmanuel Macron, visit...   \n",
       "1   Ele discutiu sobre a economia e a cultura local.   \n",
       "2                          Emmanuel Emmanuel é zika.   \n",
       "\n",
       "                                               words  \n",
       "0  [[presidente, False, NOUN, 1, 658], [França, T...  \n",
       "1  [[discutir, False, VERB, 1, 527], [economia, F...  \n",
       "2  [[Emmanuel, False, PROPN, 2, 916], [zika, Fals...  "
      ]
     },
     "metadata": {},
     "output_type": "display_data"
    }
   ],
   "source": [
    "frase_teste = \"O presidente da França, Emmanuel Macron, visitou Lisboa na semana passada. Ele discutiu sobre a economia e a cultura local. Emmanuel Emmanuel é zika.\"\n",
    "\n",
    "resultados = pipeline_preprocessamento(frase_teste)\n",
    "\n",
    "df_resultados = pd.DataFrame(resultados)\n",
    "\n",
    "display(df_resultados)"
   ]
  },
  {
   "cell_type": "markdown",
   "metadata": {
    "id": "I0R5KteZZ9LY"
   },
   "source": [
    "## Exibição de resultados obtidos"
   ]
  },
  {
   "cell_type": "code",
   "execution_count": 28,
   "metadata": {
    "colab": {
     "base_uri": "https://localhost:8080/"
    },
    "id": "Uj4hxT51KBQY",
    "outputId": "80645d26-16a1-4651-913b-d796989e5d4f"
   },
   "outputs": [
    {
     "name": "stdout",
     "output_type": "stream",
     "text": [
      "[{'Sentenca Original': 'O presidente da França, Emmanuel Macron, visitou Lisboa na semana passada.', 'words': [['presidente', False, 'NOUN', 1, 658], ['França', True, 'PROPN', 1, 896], ['Emmanuel', False, 'PROPN', 1, 272], ['Macron', False, 'PROPN', 1, 980], ['visitar', False, 'VERB', 1, 868], ['Lisboa', True, 'PROPN', 1, 72], ['semana', False, 'NOUN', 1, 275], ['passado', False, 'ADJ', 1, 793]]}, {'Sentenca Original': 'Ele discutiu sobre a economia e a cultura local.', 'words': [['discutir', False, 'VERB', 1, 527], ['economia', False, 'NOUN', 1, 209], ['culturo', False, 'ADJ', 1, 80]]}, {'Sentenca Original': 'Emmanuel Emmanuel é zika.', 'words': [['Emmanuel', False, 'PROPN', 2, 916], ['zika', False, 'PROPN', 1, 604]]}]\n"
     ]
    }
   ],
   "source": [
    "print(resultados)"
   ]
  },
  {
   "cell_type": "code",
   "execution_count": 29,
   "metadata": {
    "colab": {
     "base_uri": "https://localhost:8080/"
    },
    "id": "Vjxk0IMiDFEk",
    "outputId": "a7c7f3ec-4565-48ea-83b3-3facab7c78e8"
   },
   "outputs": [
    {
     "name": "stdout",
     "output_type": "stream",
     "text": [
      "Sentence: O presidente da França, Emmanuel Macron, visitou Lisboa na semana passada.\n",
      "Words:\n",
      "['presidente', False, 'NOUN', 1, 658]\n",
      "['França', True, 'PROPN', 1, 896]\n",
      "['Emmanuel', False, 'PROPN', 1, 272]\n",
      "['Macron', False, 'PROPN', 1, 980]\n",
      "['visitar', False, 'VERB', 1, 868]\n",
      "['Lisboa', True, 'PROPN', 1, 72]\n",
      "['semana', False, 'NOUN', 1, 275]\n",
      "['passado', False, 'ADJ', 1, 793]\n",
      "________________________________________________________\n",
      "Sentence: Ele discutiu sobre a economia e a cultura local.\n",
      "Words:\n",
      "['discutir', False, 'VERB', 1, 527]\n",
      "['economia', False, 'NOUN', 1, 209]\n",
      "['culturo', False, 'ADJ', 1, 80]\n",
      "________________________________________________________\n",
      "Sentence: Emmanuel Emmanuel é zika.\n",
      "Words:\n",
      "['Emmanuel', False, 'PROPN', 2, 916]\n",
      "['zika', False, 'PROPN', 1, 604]\n",
      "________________________________________________________\n"
     ]
    }
   ],
   "source": [
    "for resultado in resultados:\n",
    "    print(f\"Sentence: {resultado['Sentenca Original']}\")\n",
    "    print(\"Words:\")\n",
    "    for word_info in resultado['words']:\n",
    "        print(word_info)\n",
    "    print(\"________________________________________________________\")"
   ]
  },
  {
   "cell_type": "code",
   "execution_count": 30,
   "metadata": {
    "colab": {
     "base_uri": "https://localhost:8080/"
    },
    "id": "c8WPOSpfg9_1",
    "outputId": "f2ab784c-113c-4d15-d68a-372f4ae2686b"
   },
   "outputs": [
    {
     "name": "stdout",
     "output_type": "stream",
     "text": [
      "Sentence: O presidente da França, Emmanuel Macron, visitou Lisboa na semana passada.\n",
      "Words:\n",
      "['presidente', False, 'NOUN', 1, 658]\n",
      "['França', True, 'PROPN', 1, 896]\n",
      "['Emmanuel', False, 'PROPN', 1, 272]\n",
      "['Macron', False, 'PROPN', 1, 980]\n",
      "['visitar', False, 'VERB', 1, 868]\n",
      "['Lisboa', True, 'PROPN', 1, 72]\n",
      "['semana', False, 'NOUN', 1, 275]\n",
      "['passado', False, 'ADJ', 1, 793]\n",
      "________________________________________________________\n",
      "Sentence: Ele discutiu sobre a economia e a cultura local.\n",
      "Words:\n",
      "['discutir', False, 'VERB', 1, 527]\n",
      "['economia', False, 'NOUN', 1, 209]\n",
      "['culturo', False, 'ADJ', 1, 80]\n",
      "________________________________________________________\n",
      "Sentence: Emmanuel Emmanuel é zika.\n",
      "Words:\n",
      "['Emmanuel', False, 'PROPN', 2, 916]\n",
      "['zika', False, 'PROPN', 1, 604]\n",
      "________________________________________________________\n",
      "Os arrays são válidos? True\n"
     ]
    }
   ],
   "source": [
    "def validate_word_info(word_info):\n",
    "    \"\"\"\n",
    "    Valida o formato de um array de informações da palavra.\n",
    "\n",
    "    :param word_info: Array com informações da palavra a ser validado.\n",
    "    :return: True se o array estiver no formato esperado, False caso contrário.\n",
    "    \"\"\"\n",
    "    if len(word_info) != 5:\n",
    "        print(f\"Array com comprimento inválido: {word_info}\")\n",
    "        return False\n",
    "\n",
    "    if not isinstance(word_info[0], str):\n",
    "        print(f\"Primeiro elemento não é uma string: {word_info}\")\n",
    "        return False\n",
    "\n",
    "    if not isinstance(word_info[1], bool):\n",
    "        print(f\"Segundo elemento não é um booleano: {word_info}\")\n",
    "        return False\n",
    "\n",
    "    if not (word_info[2] is None or isinstance(word_info[2], str)):\n",
    "        print(f\"Terceiro elemento não é uma string ou None: {word_info}\")\n",
    "        return False\n",
    "\n",
    "    if not isinstance(word_info[3], int):\n",
    "        print(f\"Quarto elemento não é um inteiro: {word_info}\")\n",
    "        return False\n",
    "\n",
    "    if not isinstance(word_info[4], int):\n",
    "        print(f\"Quinto elemento não é um inteiro: {word_info}\")\n",
    "        return False\n",
    "\n",
    "    return True\n",
    "\n",
    "def validate_results(resultados):\n",
    "    \"\"\"\n",
    "    Função para validar todos os arrays de informações das palavras em uma lista de resultados.\n",
    "\n",
    "    :param resultados: Lista de dicionários contendo a chave 'words' com arrays a serem validados.\n",
    "    :return: True se todos os arrays estiverem no formato esperado, False caso contrário.\n",
    "    \"\"\"\n",
    "    all_valid = True\n",
    "\n",
    "    for resultado in resultados:\n",
    "        print(f\"Sentence: {resultado['Sentenca Original']}\")\n",
    "        print(\"Words:\")\n",
    "        for word_info in resultado['words']:\n",
    "            if not validate_word_info(word_info):\n",
    "                all_valid = False\n",
    "            print(word_info)\n",
    "        print(\"________________________________________________________\")\n",
    "\n",
    "    return all_valid\n",
    "\n",
    "is_valid = validate_results(resultados)\n",
    "print(f\"Os arrays são válidos? {is_valid}\")\n"
   ]
  },
  {
   "cell_type": "code",
   "execution_count": null,
   "metadata": {},
   "outputs": [],
   "source": []
  }
 ],
 "metadata": {
  "colab": {
   "provenance": []
  },
  "kernelspec": {
   "display_name": "Python 3",
   "name": "python3"
  },
  "language_info": {
   "codemirror_mode": {
    "name": "ipython",
    "version": 3
   },
   "file_extension": ".py",
   "mimetype": "text/x-python",
   "name": "python",
   "nbconvert_exporter": "python",
   "pygments_lexer": "ipython3",
   "version": "3.12.4"
  }
 },
 "nbformat": 4,
 "nbformat_minor": 0
}
